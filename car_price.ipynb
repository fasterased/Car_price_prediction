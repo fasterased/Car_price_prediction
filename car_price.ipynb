{
  "nbformat": 4,
  "nbformat_minor": 0,
  "metadata": {
    "colab": {
      "provenance": [],
      "include_colab_link": true
    },
    "kernelspec": {
      "name": "python3",
      "display_name": "Python 3"
    },
    "language_info": {
      "name": "python"
    }
  },
  "cells": [
    {
      "cell_type": "markdown",
      "metadata": {
        "id": "view-in-github",
        "colab_type": "text"
      },
      "source": [
        "<a href=\"https://colab.research.google.com/github/fasterased/Car_price_prediction/blob/main/car_price.ipynb\" target=\"_parent\"><img src=\"https://colab.research.google.com/assets/colab-badge.svg\" alt=\"Open In Colab\"/></a>"
      ]
    },
    {
      "cell_type": "code",
      "source": [
        "from sklearn.model_selection import train_test_split\n",
        "from sklearn.linear_model import LinearRegression\n",
        "from sklearn.metrics import r2_score, root_mean_squared_error\n",
        "import pandas as pd\n",
        "\n",
        "def car_price(name):\n",
        "  df = pd.read_csv(name)\n",
        "  features = df[['Year', 'Engine HP', 'Engine Cylinders', 'highway MPG', 'city mpg','Popularity']]\n",
        "  features = features.fillna(features.mean())\n",
        "  target = df['MSRP']\n",
        "  features_train, features_test, target_train, target_test = train_test_split(features, target, test_size=0.25)\n",
        "  model = LinearRegression()\n",
        "  model.fit(features_train, target_train)\n",
        "  result = model.predict(features_test)\n",
        "  rmse = root_mean_squared_error(target_test, result)\n",
        "\n",
        "  dumb_model_result = [target_train.mean()]*len(target_test)\n",
        "  rmse2 = root_mean_squared_error(target_test, dumb_model_result)\n",
        "  diff = rmse2-rmse\n",
        "\n",
        "  return f\"RMSE линейной регрессии: {rmse}, RMSE глупой модели:{rmse2}, разница между ними: {diff}\"\n",
        "\n",
        "\n",
        "\n",
        "\n",
        "\n",
        "#car_price('/content/data (1).csv')\n"
      ],
      "metadata": {
        "colab": {
          "base_uri": "https://localhost:8080/",
          "height": 35
        },
        "id": "ldCqojmiJr3g",
        "outputId": "29706caa-f1a4-410b-cca5-03427074b8ff"
      },
      "execution_count": null,
      "outputs": [
        {
          "output_type": "execute_result",
          "data": {
            "text/plain": [
              "'RMSE линейной регрессии: 31307.649869231776, RMSE глупой модели:47156.128627556085, разница между ними: 15848.478758324309'"
            ],
            "application/vnd.google.colaboratory.intrinsic+json": {
              "type": "string"
            }
          },
          "metadata": {},
          "execution_count": 39
        }
      ]
    },
    {
      "cell_type": "code",
      "source": [],
      "metadata": {
        "id": "j_lZujjsdB4A"
      },
      "execution_count": null,
      "outputs": []
    }
  ]
}